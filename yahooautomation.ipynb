{
 "cells": [
  {
   "cell_type": "markdown",
   "metadata": {},
   "source": [
    "# Step to run this selenium code (All mandatory)"
   ]
  },
  {
   "cell_type": "markdown",
   "metadata": {},
   "source": [
    "### 1-you must have a jupyter notebook in your system because selenium works on accessing internal resources.\n"
   ]
  },
  {
   "cell_type": "markdown",
   "metadata": {},
   "source": [
    "### 2 - you need to install selenium and chromedriver latest version"
   ]
  },
  {
   "cell_type": "markdown",
   "metadata": {},
   "source": [
    "### 3- Chrome driver in your system "
   ]
  },
  {
   "cell_type": "markdown",
   "metadata": {},
   "source": [
    "### 4-C:\\Users\\welcome\\.wdm\\drivers\\chromedriver\\win32\\88.0.4324.96\\chromedriver.exe Path to store chrome driver version depend on your system bit "
   ]
  },
  {
   "cell_type": "markdown",
   "metadata": {},
   "source": [
    "### 5-install Pandas library to read json file"
   ]
  },
  {
   "cell_type": "markdown",
   "metadata": {},
   "source": [
    "### 6-below code is to create a window for testing "
   ]
  },
  {
   "cell_type": "code",
   "execution_count": 2,
   "metadata": {},
   "outputs": [],
   "source": [
    "from selenium import webdriver\n",
    "from webdriver_manager.chrome import ChromeDriverManager\n",
    "\n",
    "# driver = webdriver.Chrome(ChromeDriverManager().install())"
   ]
  },
  {
   "cell_type": "markdown",
   "metadata": {},
   "source": [
    "### 7-Read json file"
   ]
  },
  {
   "cell_type": "code",
   "execution_count": 16,
   "metadata": {},
   "outputs": [],
   "source": [
    "import pandas as pd\n",
    "data=pd.read_json('C:\\\\Users\\\\welcome\\\\Downloads\\\\config.json')"
   ]
  },
  {
   "cell_type": "code",
   "execution_count": 3,
   "metadata": {},
   "outputs": [
    {
     "data": {
      "text/html": [
       "<div>\n",
       "<style scoped>\n",
       "    .dataframe tbody tr th:only-of-type {\n",
       "        vertical-align: middle;\n",
       "    }\n",
       "\n",
       "    .dataframe tbody tr th {\n",
       "        vertical-align: top;\n",
       "    }\n",
       "\n",
       "    .dataframe thead th {\n",
       "        text-align: right;\n",
       "    }\n",
       "</style>\n",
       "<table border=\"1\" class=\"dataframe\">\n",
       "  <thead>\n",
       "    <tr style=\"text-align: right;\">\n",
       "      <th></th>\n",
       "      <th>accounts</th>\n",
       "      <th>usernameForUpvote</th>\n",
       "      <th>stockName</th>\n",
       "    </tr>\n",
       "  </thead>\n",
       "  <tbody>\n",
       "    <tr>\n",
       "      <th>0</th>\n",
       "      <td>{'username': 'john@doe.com', 'password': '1234...</td>\n",
       "      <td>Jim</td>\n",
       "      <td>INTC</td>\n",
       "    </tr>\n",
       "    <tr>\n",
       "      <th>1</th>\n",
       "      <td>{'username': 'john@doe.com', 'password': '1234...</td>\n",
       "      <td>Jim</td>\n",
       "      <td>INTC</td>\n",
       "    </tr>\n",
       "  </tbody>\n",
       "</table>\n",
       "</div>"
      ],
      "text/plain": [
       "                                            accounts usernameForUpvote  \\\n",
       "0  {'username': 'john@doe.com', 'password': '1234...               Jim   \n",
       "1  {'username': 'john@doe.com', 'password': '1234...               Jim   \n",
       "\n",
       "  stockName  \n",
       "0      INTC  \n",
       "1      INTC  "
      ]
     },
     "execution_count": 3,
     "metadata": {},
     "output_type": "execute_result"
    }
   ],
   "source": [
    "data"
   ]
  },
  {
   "cell_type": "markdown",
   "metadata": {},
   "source": [
    "## 8- below is the data present in the json file"
   ]
  },
  {
   "cell_type": "code",
   "execution_count": 4,
   "metadata": {},
   "outputs": [],
   "source": [
    "a=data['accounts'][1]['username']"
   ]
  },
  {
   "cell_type": "code",
   "execution_count": 5,
   "metadata": {},
   "outputs": [],
   "source": [
    "b=data['accounts'][1]['password']"
   ]
  },
  {
   "cell_type": "code",
   "execution_count": 6,
   "metadata": {},
   "outputs": [],
   "source": [
    "stock=data['stockName'][0]"
   ]
  },
  {
   "cell_type": "code",
   "execution_count": 7,
   "metadata": {},
   "outputs": [],
   "source": [
    "vote=data['usernameForUpvote']"
   ]
  },
  {
   "cell_type": "markdown",
   "metadata": {},
   "source": [
    "# 9-Below code is for login "
   ]
  },
  {
   "cell_type": "code",
   "execution_count": 32,
   "metadata": {},
   "outputs": [],
   "source": [
    "from selenium.common.exceptions import NoSuchElementException\n",
    "import time\n",
    "#a1 is a username ,b1 is a password,c1 is a stockname,d1 is a vote\n",
    "#Data is a json file\n",
    "def login(a12,b12,c12,d12): \n",
    "    for j in range(0,1): \n",
    "        driver = webdriver.Chrome(ChromeDriverManager().install())\n",
    "        driver.get('https://login.yahoo.com/?.src=fpctx&.intl=in&.lang=en-IN&.done=https://in.yahoo.com&pspid=97684142')\n",
    "        \n",
    "        try:\n",
    "            main=[]\n",
    "            \n",
    "            #Taking Mail as john@doe.com input =data['accounts'][j]['username']\n",
    "            Email=driver.find_element_by_xpath('//*[@id=\"login-username\"]').send_keys(a12)\n",
    "            \n",
    "            #Move to next page\n",
    "            nextpage=driver.find_element_by_xpath('//*[@id=\"login-signin\"]').click()\n",
    "            time.sleep(8)\n",
    "            \n",
    "            #Taking Password as 12345 input data['accounts'][j]['password']\n",
    "            Password=driver.find_element_by_id('login-passwd').send_keys(b12)\n",
    "            \n",
    "            #Move to next page\n",
    "            nextpage2=driver.find_element_by_xpath('//*[@id=\"login-signin\"]').click()\n",
    "            time.sleep(8)\n",
    "            \n",
    "            #Submit the details\n",
    "            fina=driver.find_element_by_xpath('//*[@id=\"header-nav-bar\"]/li[5]/a').click()\n",
    "            time.sleep(6)\n",
    "            \n",
    "            #Taking Stock  name INTC\n",
    "            search=driver.find_element_by_xpath('//*[@id=\"yfin-usr-qry\"]').send_keys(c12)\n",
    "            time.sleep(2)\n",
    "            \n",
    "            #Move to next page\n",
    "            nextpage3=driver.find_element_by_xpath('//*[@id=\"search-button\"]').click()\n",
    "            \n",
    "            #move to conversation\n",
    "            time.sleep(4)\n",
    "            conv=driver.find_element_by_xpath('//*[@id=\\\"quote-nav\\\"]/ul/li[3]').click()\n",
    "            \n",
    "            #drop down\n",
    "            time.sleep(4)\n",
    "            nextp=driver.find_element_by_xpath(\"//*[@id=\\\"canvass-0-CanvassApplet\\\"]/div/div[3]/button\").click()\n",
    "            \n",
    "            time.sleep(20)\n",
    "            #latest reaction\n",
    "            d=driver.find_element_by_xpath(\"//*[@id=\\\"canvass-0-CanvassApplet\\\"]/div/div[3]/ul/li[2]\").click()\n",
    "        except NoSuchElementException:\n",
    "            \n",
    "            print('None')\n",
    "        return d12,driver\n",
    "        \n",
    "        "
   ]
  },
  {
   "cell_type": "markdown",
   "metadata": {},
   "source": [
    "## 10 below is for liking the comments,by finding the username"
   ]
  },
  {
   "cell_type": "code",
   "execution_count": 34,
   "metadata": {},
   "outputs": [],
   "source": [
    "# #This is for like \n",
    "# #Data is a json file \n",
    "for i in range(0,len(data)):\n",
    "    a_new=login(data['accounts'][i]['username'],data['accounts'][i]['password'],data['stockName'][i],data['usernameForUpvote'][i])\n",
    "    \n",
    "    try:\n",
    "        main=[]\n",
    "        #Load pages of comments .\n",
    "        time.sleep(5)\n",
    "        showmore1=a_new[1].find_element_by_xpath('//*[@id=\"canvass-0-CanvassApplet\"]/div/button').click()\n",
    "        \n",
    "        time.sleep(6)\n",
    "        showmore2=a_new[1].find_element_by_xpath('//*[@id=\"canvass-0-CanvassApplet\"]/div/button').click()\n",
    "        \n",
    "        time.sleep(6)\n",
    "        showmore3=a_new[1].find_element_by_xpath('//*[@id=\"canvass-0-CanvassApplet\"]/div/button').click()\n",
    "        \n",
    "        time.sleep(6)\n",
    "        showmore4=a_new[1].find_element_by_xpath('//*[@id=\"canvass-0-CanvassApplet\"]/div/button').click()\n",
    "        \n",
    "        #Start finding the usernameforupvote\n",
    "        d6=a_new[1].find_elements_by_tag_name('ul')\n",
    "        for hi in d6:\n",
    "            a1=hi.find_elements_by_tag_name('li')\n",
    "            for fk in a1:\n",
    "                ab=fk.find_elements_by_tag_name('button')\n",
    "                inside=[]\n",
    "                for af in ab:\n",
    "                    inside.append(af)\n",
    "\n",
    "                main.append(inside)\n",
    "    \n",
    "        #Remove empty array from list\n",
    "        w=list(filter(None,main))\n",
    "        \n",
    "        #find the value where like is present then click it \n",
    "        for h in range(0,len(w)):\n",
    "            #Here is our vote Name\n",
    "            if w[h][0].text==a_new[0]:\n",
    "                for  t in range(1,len(w[h])):\n",
    "                    #if both have starting postion replies and reply \n",
    "                    if w[h][t].text.startswith('Repl') and w[h][t+1].text.startswith('Repl') :\n",
    "                        \n",
    "                        #We pick the next term ,then click it\n",
    "                        w[h][t+2].click()\n",
    "                        \n",
    "                    #otherwise if it starts first with replies then second position donot have reply then next term we choose for  click\n",
    "                    elif w[h][t].text.startswith('Repl') and w[h][t].text.startswith('Repl')!=True:\n",
    "                        w[h][t+1].click()\n",
    "                    else:\n",
    "                        pass\n",
    "            else:\n",
    "                #If my usernameupvote is not present\n",
    "                print('This is Name is not present')\n",
    "        time.sleep(5)\n",
    "        \n",
    "        #here is for logout\n",
    "        logout=a_new[1].find_element_by_xpath('//*[@id=\"uh-right\"]/li[1]/div/div/div/div[2]').click()\n",
    "        a_new[1].refresh()\n",
    "        \n",
    "        \n",
    "        \n",
    "        \n",
    "                \n",
    "    except NoSuchElementException:\n",
    "                      \n",
    "        print('None')\n",
    "    "
   ]
  },
  {
   "cell_type": "markdown",
   "metadata": {},
   "source": [
    "# Note : Try and Except i used it for exception handling "
   ]
  },
  {
   "cell_type": "code",
   "execution_count": null,
   "metadata": {},
   "outputs": [],
   "source": [
    "#test \n",
    "# import time\n",
    "# from selenium.webdriver.common.by import By\n",
    "# from selenium.webdriver.support.ui import WebDriverWait\n",
    "# from selenium.webdriver.support import expected_conditions as EC\n",
    "\n",
    "# driver = webdriver.Chrome(ChromeDriverManager().install())\n",
    "# driver.get('https://in.finance.yahoo.com/quote/INTC/community?p=INTC')\n",
    "# try:\n",
    "    \n",
    "#     conv=driver.find_element_by_xpath('//*[@id=\\\"quote-nav\\\"]/ul/li[3]').click()\n",
    "\n",
    "#     nextp=driver.find_element_by_xpath(\"//*[@id=\\\"canvass-0-CanvassApplet\\\"]/div/div[3]/button\").click()\n",
    "#     time.sleep(20)\n",
    "#     d=driver.find_element_by_xpath(\"//*[@id=\\\"canvass-0-CanvassApplet\\\"]/div/div[3]/ul/li[3]\").click()\n",
    "    \n",
    "# except:\n",
    "#     pass"
   ]
  }
 ],
 "metadata": {
  "kernelspec": {
   "display_name": "Python 3",
   "language": "python",
   "name": "python3"
  },
  "language_info": {
   "codemirror_mode": {
    "name": "ipython",
    "version": 3
   },
   "file_extension": ".py",
   "mimetype": "text/x-python",
   "name": "python",
   "nbconvert_exporter": "python",
   "pygments_lexer": "ipython3",
   "version": "3.7.6"
  }
 },
 "nbformat": 4,
 "nbformat_minor": 4
}
